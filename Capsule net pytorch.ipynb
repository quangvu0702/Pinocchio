{
 "cells": [
  {
   "cell_type": "markdown",
   "metadata": {},
   "source": [
    "### Reading:\n",
    " - https://medium.com/ai%C2%B3-theory-practice-business/understanding-hintons-capsule-networks-part-i-intuition-b4b559d1159b\n",
    " - https://github.com/higgsfield/Capsule-Network-Tutorial/blob/master/Capsule%20Network.ipynb\n",
    " - "
   ]
  },
  {
   "cell_type": "code",
   "execution_count": 1,
   "metadata": {},
   "outputs": [],
   "source": [
    "import torch"
   ]
  },
  {
   "cell_type": "code",
   "execution_count": 2,
   "metadata": {},
   "outputs": [
    {
     "data": {
      "text/plain": [
       "'1.0.1.post2'"
      ]
     },
     "execution_count": 2,
     "metadata": {},
     "output_type": "execute_result"
    }
   ],
   "source": [
    "torch.__version__"
   ]
  },
  {
   "cell_type": "code",
   "execution_count": 3,
   "metadata": {},
   "outputs": [],
   "source": [
    "%matplotlib inline"
   ]
  },
  {
   "cell_type": "markdown",
   "metadata": {},
   "source": [
    "## I. Load and plot data MNIST dataset"
   ]
  },
  {
   "cell_type": "code",
   "execution_count": 4,
   "metadata": {},
   "outputs": [],
   "source": [
    "import torch\n",
    "from torchvision import datasets, transforms\n",
    "import matplotlib.pyplot as plt\n",
    "    \n",
    "    \n",
    "class Dataset:\n",
    "    def __init__(self, dataset, _batch_size=30):\n",
    "        super(Dataset, self).__init__()\n",
    "        if dataset == 'mnist':\n",
    "            dataset_transform = transforms.Compose([\n",
    "                transforms.ToTensor(),\n",
    "                transforms.Normalize((0.1307,), (0.3081,))\n",
    "            ])\n",
    "\n",
    "            train_dataset = datasets.MNIST('/fast/data/', train=True, download=True,\n",
    "                                           transform=dataset_transform)\n",
    "            test_dataset = datasets.MNIST('/fast/data/', train=False, download=True,\n",
    "                                          transform=dataset_transform)\n",
    "            self.img_shape = (28, 28)\n",
    "            self.train_loader = torch.utils.data.DataLoader(train_dataset, batch_size=_batch_size, shuffle=True)\n",
    "            self.test_loader = torch.utils.data.DataLoader(test_dataset, batch_size=_batch_size, shuffle=False)\n",
    "\n",
    "        elif dataset == 'cifar10':\n",
    "            data_transform = transforms.Compose([\n",
    "                transforms.ToTensor(),\n",
    "                transforms.Normalize((0.5, 0.5, 0.5), (0.5, 0.5, 0.5))\n",
    "            ])\n",
    "            train_dataset = datasets.CIFAR10(\n",
    "                '/data/cifar', train=True, download=True, transform=data_transform)\n",
    "            test_dataset = datasets.CIFAR10(\n",
    "                '/data/cifar', train=False, download=True, transform=data_transform)\n",
    "\n",
    "            self.train_loader = torch.utils.data.DataLoader(\n",
    "                train_dataset, batch_size=_batch_size, shuffle=True)\n",
    "\n",
    "            self.test_loader = torch.utils.data.DataLoader(\n",
    "                test_dataset, batch_size=_batch_size, shuffle=False)\n",
    "        elif dataset == 'office-caltech':\n",
    "            pass\n",
    "        elif dataset == 'office31':\n",
    "            pass\n",
    "        \n",
    "    def plot_images(self, images, cls_true, cls_pred=None):\n",
    "        assert len(images) == len(cls_true) == 9\n",
    "\n",
    "        # Create figure with 3x3 sub-plots.\n",
    "        fig, axes = plt.subplots(3, 3)\n",
    "        fig.subplots_adjust(hspace=0.3, wspace=0.3)\n",
    "\n",
    "        for i, ax in enumerate(axes.flat):\n",
    "            # Plot image.\n",
    "            ax.imshow(images[i].reshape(self.img_shape), cmap='binary')\n",
    "\n",
    "            # Show true and predicted classes.\n",
    "            if cls_pred is None:\n",
    "                xlabel = \"True: {0}\".format(cls_true[i])\n",
    "            else:\n",
    "                xlabel = \"True: {0}, Pred: {1}\".format(cls_true[i], cls_pred[i])\n",
    "\n",
    "            ax.set_xlabel(xlabel)\n",
    "\n",
    "            # Remove ticks from the plot.\n",
    "            ax.set_xticks([])\n",
    "            ax.set_yticks([])\n",
    "\n",
    "        # Ensure the plot is shown correctly with multiple plots\n",
    "        # in a single Notebook cell.\n",
    "        plt.show()"
   ]
  },
  {
   "cell_type": "code",
   "execution_count": 5,
   "metadata": {},
   "outputs": [],
   "source": [
    "data = Dataset('mnist')"
   ]
  },
  {
   "cell_type": "code",
   "execution_count": 6,
   "metadata": {},
   "outputs": [],
   "source": [
    "iter_train = iter(data.train_loader)"
   ]
  },
  {
   "cell_type": "code",
   "execution_count": 7,
   "metadata": {},
   "outputs": [
    {
     "data": {
      "text/plain": [
       "(torch.Size([30, 1, 28, 28]), torch.Size([30]))"
      ]
     },
     "execution_count": 7,
     "metadata": {},
     "output_type": "execute_result"
    }
   ],
   "source": [
    "x, y = next(iter_train)\n",
    "x.shape,y.shape"
   ]
  },
  {
   "cell_type": "code",
   "execution_count": 8,
   "metadata": {},
   "outputs": [
    {
     "data": {
      "image/png": "[encoded data removed]",
      "text/plain": [
       "<Figure size 432x288 with 9 Axes>"
      ]
     },
     "metadata": {},
     "output_type": "display_data"
    }
   ],
   "source": [
    "data.plot_images(images=x[0:9], cls_true=y[0:9])"
   ]
  },
  {
   "cell_type": "markdown",
   "metadata": {},
   "source": [
    "## II. Create model:\n",
    " - Encoder.\n",
    " - Decoder."
   ]
  },
  {
   "cell_type": "markdown",
   "metadata": {},
   "source": [
    "### Encoder:\n",
    " - Layer 1: conv.\n",
    " - Layer 2: primary caps.\n",
    " - Layer 3: Digital caps."
   ]
  },
  {
   "cell_type": "markdown",
   "metadata": {},
   "source": [
    "![Image of Yaktocat](./capsule_n.png)"
   ]
  },
  {
   "cell_type": "code",
   "execution_count": 9,
   "metadata": {},
   "outputs": [],
   "source": [
    "from torch import nn"
   ]
  },
  {
   "cell_type": "code",
   "execution_count": 10,
   "metadata": {},
   "outputs": [
    {
     "data": {
      "text/plain": [
       "torch.Size([30, 256, 20, 20])"
      ]
     },
     "execution_count": 10,
     "metadata": {},
     "output_type": "execute_result"
    }
   ],
   "source": [
    "# Layer 1: conv\n",
    "class ConvLayer(nn.Module):\n",
    "    def __init__(self, in_channels=1, out_channels=256, kernel_size=9):\n",
    "        super(ConvLayer, self).__init__()\n",
    "        self.conv = nn.Conv2d(in_channels, out_channels, kernel_size)\n",
    "        self.relu = nn.ReLU()\n",
    "    def forward(self, x):\n",
    "        out = self.conv(x)\n",
    "        out = self.relu(out)\n",
    "        return out\n",
    "    \n",
    "layer1 = ConvLayer()\n",
    "l1_out = layer1(x)\n",
    "l1_out.shape"
   ]
  },
  {
   "cell_type": "code",
   "execution_count": 11,
   "metadata": {},
   "outputs": [],
   "source": [
    "# Layer 2: PrimaryCaps layer:\n",
    "class PrimaryCaps(nn.Module):\n",
    "    def __init__(self, num_capsules=32, in_channels=256, out_channels=8, kernel_size=9):\n",
    "        super(PrimaryCaps, self).__init__()\n",
    "        self.convs = nn.ModuleList([nn.Conv2d(in_channels, out_channels, kernel_size, stride=2) for _ in range(num_capsules)])\n",
    "        self.relu = nn.ReLU()\n",
    "    def forward(self, x):\n",
    "        out = [self.relu(conv(x)) for conv in self.convs]\n",
    "        return out\n",
    "layer2 = PrimaryCaps()"
   ]
  },
  {
   "cell_type": "code",
   "execution_count": 12,
   "metadata": {},
   "outputs": [],
   "source": [
    "l2_out = layer2(l1_out)"
   ]
  },
  {
   "cell_type": "code",
   "execution_count": 13,
   "metadata": {},
   "outputs": [
    {
     "data": {
      "text/plain": [
       "torch.Size([30, 8, 6, 6])"
      ]
     },
     "execution_count": 13,
     "metadata": {},
     "output_type": "execute_result"
    }
   ],
   "source": [
    "l2_out[0].shape"
   ]
  },
  {
   "cell_type": "code",
   "execution_count": 17,
   "metadata": {},
   "outputs": [],
   "source": [
    "# Layer 3: Digital caps layer:\n",
    "class DigitalCaps(nn.Module):\n",
    "    def __init__(self):\n",
    "        super(DigitalCaps, self).__init__()\n",
    "    def forward(self, x):\n",
    "        pass"
   ]
  }
 ],
 "metadata": {
  "kernelspec": {
   "display_name": "Python 3",
   "language": "python",
   "name": "python3"
  },
  "language_info": {
   "codemirror_mode": {
    "name": "ipython",
    "version": 3
   },
   "file_extension": ".py",
   "mimetype": "text/x-python",
   "name": "python",
   "nbconvert_exporter": "python",
   "pygments_lexer": "ipython3",
   "version": "3.6.8"
  }
 },
 "nbformat": 4,
 "nbformat_minor": 2
}
